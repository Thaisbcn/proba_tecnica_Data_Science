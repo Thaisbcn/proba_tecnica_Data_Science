{
 "cells": [
  {
   "cell_type": "markdown",
   "id": "2967770a-49c8-433e-86ed-249fc334dd8f",
   "metadata": {},
   "source": [
    "# 4 PRE-PROCESAMENT # "
   ]
  },
  {
   "cell_type": "markdown",
   "id": "2b8c340f-cec8-488f-ad7e-7415d1864ef8",
   "metadata": {},
   "source": [
    "## Estratègia per preparar les dades ##\n",
    "Un cop realitzats multiples intents, per intentar dirigir el meu projecta a l'objectiu que tenia en ment: Predicció per classificar si un local estaria amb activitat, un cop entrades diferents mètriques com el barri, districte i activitat, defineixo un nou objectiu de classificació supervisada que és detectar si un local pot ser de degustació o no. Vist l'impacte en l'estudi EDA que té, doncs és un negoci senzill que no necessita sortida de fums i desl que pot tenir més èxit donat les ratios observades.\n",
    "\n",
    "### Definir el target (variable objectiu): SN_Servei_degustació\n",
    "\n",
    "Variables independents (features):\n",
    "Les variables categòriques (com Nom_Barri, Nom_Districte, Nom_Sector_Activitat, Nom_Grup_Activitat etc.) les codificarem amb OneHot Encoding. \n",
    "Les variables booleanes (com SN_Oci_Nocturn, SN_Coworking, SN_Servei_Degustacio, SN_Obert24h, SN_Mixtura, SN_Carrer, SN_Mercat', SN_Galeria, SN_CComercial, SN_Eix) ja estan codificades com 0/1, així que no cal fer cap transformació.   \n",
    "\n",
    "Tècniques a tenir en compte: \n",
    "Com hem apreciat a l'EDA, comptem amb un conjunt de dades desbalancejat, hem de tenir en compte algunes tècniques per equilibrar les classes, com:  Reamostratge (Resampling), Oversampling generar més exemples de la classe minoritària (inactiu) per equilibrar la distribució de classes, ...  Una tècnica comuna és SMOTE (Synthetic Minority Over-sampling Technique), que genera mostres sintètiques de la classe minoritària. Una altra tècnica és Cost-Sensitive Learning, tècnica modifica el model per penalitzar més els errors de predicció en la classe minoritària, fent que el model estigui més \"preparat\" per identificar els locals inactius. \n",
    "\n",
    "No cal cap escalador doncs només comptem amb numèriques booleanes.   \n",
    "\n",
    "Models a valorar: Random Forest, XGBoost, LogisticRegression, DecisionTreeClassifier i  GradientBoostingClassifier.  \n",
    "Búsqueda de millors hiperparàmetres amb grid_search.   \n",
    "Mesura de rendiments: A l'hora de mesurar els resultats, no només tenir en compte la precisió (accuracy), sinó també el F1-score, recall i precisió.\n",
    "Obtenir una matriu de confusió amb els valors verdeders i falsos positius, negatius... \n",
    "Validació creuada estratificada.   "
   ]
  },
  {
   "cell_type": "code",
   "execution_count": 21,
   "id": "9e7d30e4-2b56-40b7-b56e-0600b9ae9103",
   "metadata": {},
   "outputs": [],
   "source": [
    "import pandas as pd\n",
    "import numpy as np\n",
    "\n",
    "from sklearn.model_selection import train_test_split, GridSearchCV\n",
    "from sklearn.ensemble import RandomForestClassifier, GradientBoostingClassifier\n",
    "from sklearn.linear_model import LogisticRegression\n",
    "from sklearn.tree import DecisionTreeClassifier\n",
    "from xgboost import XGBClassifier\n",
    "from sklearn.preprocessing import OneHotEncoder\n",
    "from sklearn.pipeline import Pipeline\n",
    "from sklearn.compose import ColumnTransformer\n",
    "from sklearn.metrics import accuracy_score, classification_report, confusion_matrix\n",
    "import matplotlib.pyplot as plt\n",
    "import seaborn as sns\n",
    "import pickle\n",
    "\n",
    "import warnings\n",
    "\n",
    "# Suprimir todas las advertencias\n",
    "warnings.filterwarnings('ignore')\n",
    "df = pd.read_csv('df_net.csv')"
   ]
  },
  {
   "cell_type": "markdown",
   "id": "1588f72f-2a8f-4bfe-9cc8-25656e613e4f",
   "metadata": {},
   "source": [
    "Donat el gir del meu estudi, i abans de confirmar el nou tartget, primer vull avaluar la relació de les variables per veure quines definir per la nova variable dependet SN_Degustació. En el cas de les booleanes i categòriques, aplicarem la tècnica de amb chi quadrat:"
   ]
  },
  {
   "cell_type": "code",
   "execution_count": 74,
   "id": "5faae45b-585c-4f48-9a3b-649a37028b83",
   "metadata": {},
   "outputs": [
    {
     "name": "stdout",
     "output_type": "stream",
     "text": [
      "         Columna          Chi2       p-value  Graus_de_Llibertat\n",
      "0  Nom_Activitat  19157.478808  0.000000e+00                  76\n",
      "1      Nom_Barri    115.404353  8.886990e-04                  72\n",
      "2      SN_Carrer     17.267305  3.247266e-05                   1\n",
      "3      SN_Mercat     26.952980  2.084655e-07                   1\n",
      "4     SN_Galeria      3.295482  6.947070e-02                   1\n",
      "5  SN_CComercial      1.683255  1.944925e-01                   1\n",
      "6         SN_Eix     17.070015  3.602666e-05                   1\n",
      "\n",
      "Columnes amb relació significativa amb 'SN_Servei_Degustacio':\n",
      "         Columna          Chi2       p-value  Graus_de_Llibertat\n",
      "0  Nom_Activitat  19157.478808  0.000000e+00                  76\n",
      "1      Nom_Barri    115.404353  8.886990e-04                  72\n",
      "2      SN_Carrer     17.267305  3.247266e-05                   1\n",
      "3      SN_Mercat     26.952980  2.084655e-07                   1\n",
      "6         SN_Eix     17.070015  3.602666e-05                   1\n"
     ]
    }
   ],
   "source": [
    "from scipy.stats import chi2_contingency\n",
    "\n",
    "# Seleccionar les columnes categoriques i binàries\n",
    "columnes_categoriques = ['Nom_Activitat', 'Nom_Barri']\n",
    "columnes_binaries = ['SN_Carrer', 'SN_Mercat', 'SN_Galeria', 'SN_CComercial', 'SN_Eix']\n",
    "\n",
    "# Dataframe amb les columnes seleccionades\n",
    "X = df[columnes_categoriques + columnes_binaries]  # Característiques\n",
    "y = df['SN_Servei_Degustacio']  # Target (binari)\n",
    "\n",
    "# Convertir les columnes a tipus de dades categòriques si no ho són\n",
    "X = X.apply(lambda col: col.astype('category') if col.dtype != 'category' else col)\n",
    "\n",
    "# Crear un dataframe per guardar els resultats del test\n",
    "resultats_chi = []\n",
    "\n",
    "# Iterar sobre les columnes d'X per aplicar el test Chi-cuadrat\n",
    "for column in X.columns:\n",
    "    # Crear taula de contingència\n",
    "    contingency_table = pd.crosstab(X[column], y)\n",
    "    \n",
    "    # Aplicar Chi-cuadrat\n",
    "    chi2, p, dof, expected = chi2_contingency(contingency_table)\n",
    "    \n",
    "    # Emmagatzemar els resultats\n",
    "    resultats_chi.append({\n",
    "        'Columna': column,\n",
    "        'Chi2': chi2,\n",
    "        'p-value': p,\n",
    "        'Graus_de_Llibertat': dof\n",
    "    })\n",
    "\n",
    "# Convertir els resultats en un DataFrame\n",
    "df_resultats_chi = pd.DataFrame(resultats_chi)\n",
    "\n",
    "# Mostrar els resultats\n",
    "print(df_resultats_chi)\n",
    "\n",
    "# Filtrar les columnes amb p-value < 0.05 per identificar relacions significatives\n",
    "significant_results = df_resultats_chi[df_resultats_chi['p-value'] < 0.05]\n",
    "\n",
    "print(\"\\nColumnes amb relació significativa amb 'SN_Servei_Degustacio':\")\n",
    "print(significant_results)\n"
   ]
  },
  {
   "cell_type": "markdown",
   "id": "90ed3e2c-e76d-4e18-b4f5-54b5d13c5036",
   "metadata": {},
   "source": [
    "Relacions significatives: Les variables 'Nom_Activitat', 'Nom_Barri', 'SN_Carrer', 'SN_Mercat', i 'SN_Eix' tenen una relació estadísticament significativa amb 'SN_Servei_Degustacio' (p-value < 0.05)."
   ]
  },
  {
   "cell_type": "code",
   "execution_count": 72,
   "id": "0f3b76b8-4b95-48a1-84cb-fdf71f93ed68",
   "metadata": {},
   "outputs": [
    {
     "name": "stdout",
     "output_type": "stream",
     "text": [
      "<class 'pandas.core.frame.DataFrame'>\n",
      "RangeIndex: 66088 entries, 0 to 66087\n",
      "Data columns (total 43 columns):\n",
      " #   Column                    Non-Null Count  Dtype  \n",
      "---  ------                    --------------  -----  \n",
      " 0   ID_Global                 66088 non-null  object \n",
      " 1   Codi_Principal_Activitat  66088 non-null  int64  \n",
      " 2   Nom_Principal_Activitat   66088 non-null  object \n",
      " 3   Codi_Sector_Activitat     66088 non-null  int64  \n",
      " 4   Nom_Sector_Activitat      66088 non-null  object \n",
      " 5   Codi_Grup_Activitat       66088 non-null  int64  \n",
      " 6   Nom_Grup_Activitat        66088 non-null  object \n",
      " 7   Codi_Activitat_2022       66088 non-null  int64  \n",
      " 8   Nom_Activitat             66088 non-null  object \n",
      " 9   Codi_Activitat_2016       66088 non-null  object \n",
      " 10  Nom_Local                 66088 non-null  object \n",
      " 11  SN_Oci_Nocturn            66088 non-null  int64  \n",
      " 12  SN_Coworking              66088 non-null  int64  \n",
      " 13  SN_Servei_Degustacio      66088 non-null  int64  \n",
      " 14  SN_Obert24h               66088 non-null  int64  \n",
      " 15  SN_Mixtura                66088 non-null  int64  \n",
      " 16  SN_Carrer                 66088 non-null  int64  \n",
      " 17  SN_Mercat                 66088 non-null  int64  \n",
      " 18  Nom_Mercat                66088 non-null  object \n",
      " 19  SN_Galeria                66088 non-null  int64  \n",
      " 20  Nom_Galeria               66088 non-null  object \n",
      " 21  SN_CComercial             66088 non-null  int64  \n",
      " 22  Nom_CComercial            66088 non-null  object \n",
      " 23  SN_Eix                    66088 non-null  int64  \n",
      " 24  Nom_Eix                   66088 non-null  object \n",
      " 25  X_UTM_ETRS89              66088 non-null  float64\n",
      " 26  Y_UTM_ETRS89              66088 non-null  float64\n",
      " 27  Latitud                   66088 non-null  float64\n",
      " 28  Longitud                  66088 non-null  float64\n",
      " 29  Direccio_Unica            66088 non-null  object \n",
      " 30  Codi_Via                  66088 non-null  int64  \n",
      " 31  Nom_Via                   66088 non-null  object \n",
      " 32  Num_Policia_Inicial       66088 non-null  float64\n",
      " 33  Num_Policia_Final         66088 non-null  float64\n",
      " 34  Solar                     66088 non-null  object \n",
      " 35  Codi_Parcela              66088 non-null  object \n",
      " 36  Codi_Illa                 66088 non-null  object \n",
      " 37  Seccio_Censal             66088 non-null  int64  \n",
      " 38  Codi_Barri                66088 non-null  int64  \n",
      " 39  Nom_Barri                 66088 non-null  object \n",
      " 40  Codi_Districte            66088 non-null  int64  \n",
      " 41  Nom_Districte             66088 non-null  object \n",
      " 42  Data_Revisio              66088 non-null  object \n",
      "dtypes: float64(6), int64(18), object(19)\n",
      "memory usage: 21.7+ MB\n"
     ]
    }
   ],
   "source": [
    "df.info()"
   ]
  },
  {
   "cell_type": "code",
   "execution_count": 73,
   "id": "f77892e8-29c8-42a0-a510-95c8ce60870d",
   "metadata": {},
   "outputs": [
    {
     "name": "stdout",
     "output_type": "stream",
     "text": [
      "Chi-cuadrado per Codi_Sector_Activitat i SN_Servei_Degustacio:\n",
      "p-value: 3.994856103833514e-235\n",
      "Hi ha una associació significativa entre la variable i SN_Servei_Degustacio\n",
      "--------------------------------------------------\n",
      "Chi-cuadrado per Nom_Barri i SN_Servei_Degustacio:\n",
      "p-value: 0.000888699036972236\n",
      "Hi ha una associació significativa entre la variable i SN_Servei_Degustacio\n",
      "--------------------------------------------------\n",
      "Chi-cuadrado per Codi_Districte i SN_Servei_Degustacio:\n",
      "p-value: 3.7014622320786514e-08\n",
      "Hi ha una associació significativa entre la variable i SN_Servei_Degustacio\n",
      "--------------------------------------------------\n",
      "Chi-cuadrado per Nom_Grup_Activitat i SN_Servei_Degustacio:\n",
      "p-value: 0.0\n",
      "Hi ha una associació significativa entre la variable i SN_Servei_Degustacio\n",
      "--------------------------------------------------\n",
      "Chi-cuadrado per Nom_Activitat i SN_Servei_Degustacio:\n",
      "p-value: 0.0\n",
      "Hi ha una associació significativa entre la variable i SN_Servei_Degustacio\n",
      "--------------------------------------------------\n"
     ]
    }
   ],
   "source": [
    "import pandas as pd\n",
    "from scipy.stats import chi2_contingency\n",
    "\n",
    "# Carregar el dataframe (suponem que ja tens el dataframe carregat com 'df')\n",
    "\n",
    "# Seleccionar les variables categòriques per comparar amb 'SN_Servei_Degustacio'\n",
    "categorical_columns = [\n",
    "    'Nom_Principal_Activitat',\n",
    "    'Nom_Barri',\n",
    "    'Nom_Sector_Activitat',\n",
    "    'Nom_Grup_Activitat',\n",
    "    'Nom_Activitat'\n",
    "]\n",
    "\n",
    "# Iterar sobre les columnes categòriques per aplicar el test de chi-cuadrado\n",
    "for col in categorical_columns:\n",
    "    print(f\"Chi-cuadrado per {col} i SN_Servei_Degustacio:\")\n",
    "    \n",
    "    # Crear la taula de contingència\n",
    "    contingency_table = pd.crosstab(df[col], df['SN_Servei_Degustacio'])\n",
    "    \n",
    "    # Aplicar el test de chi-cuadrado\n",
    "    chi2, p, dof, expected = chi2_contingency(contingency_table)\n",
    "    \n",
    "    # Imprimir els resultats\n",
    "    print(f\"p-value: {p}\")\n",
    "    if p < 0.05:\n",
    "        print(\"Hi ha una associació significativa entre la variable i SN_Servei_Degustacio\")\n",
    "    else:\n",
    "        print(\"No hi ha una associació significativa entre la variable i SN_Servei_Degustacio\")\n",
    "    print(\"-\" * 50)\n"
   ]
  },
  {
   "cell_type": "markdown",
   "id": "a7bb79e2-c63b-4e3a-b7df-0f62daa7feeb",
   "metadata": {},
   "source": [
    "_Conclusió: Les variables Nom_Sector_Activitat, Nom_Grup_Activitat, i Nom_Activitat mostren una relació molt forta amb la variable objectiu. Les variables Nom_Barri i Nom_Districte també mostren una relació significativa, tot i que una mica més dèbil que les anteriors. Això vol dir que aquestes variables poden ser molt útils per a la classificació. Així, podem mantenir totes aquestes variables en el model per a la classificació._"
   ]
  },
  {
   "cell_type": "markdown",
   "id": "cf3e6736-f96e-4ae9-a692-d9d973a2851e",
   "metadata": {},
   "source": [
    "_Relació significativa: (P-valor menor que 0.05), target (Codi_Principal_Activitat). Nom_Principal_Activitat, Nom_Sector_Activitat, o Nom_Barri poden ajudar a predir si un establiment està actiu o inactiu._"
   ]
  },
  {
   "cell_type": "markdown",
   "id": "b884518d-148d-4d2a-aa1e-814e6a96cf9c",
   "metadata": {},
   "source": [
    "### Preparació del conjunt d'entrenament i entrenament amb difernts models ###"
   ]
  },
  {
   "cell_type": "markdown",
   "id": "c3d7a2a0-9213-4f2f-9495-c29d71587b46",
   "metadata": {},
   "source": [
    "Dividim les variables seleccionades amb categòriques i binàries doncs les binàries no necessiten cap transformació. Les categòriques les transformem amb el OneHotEncoder i després de separar el conjunt de proba 70%, creem un pipeline per entrenar 5 models diferents de classificació supervisada"
   ]
  },
  {
   "cell_type": "code",
   "execution_count": 27,
   "id": "4cf37b79-ada6-444f-a9ad-fe4bda31a897",
   "metadata": {
    "scrolled": true
   },
   "outputs": [
    {
     "name": "stdout",
     "output_type": "stream",
     "text": [
      "Best params for logistic: {'classifier__C': 0.01, 'classifier__penalty': 'l1', 'classifier__solver': 'liblinear'}\n",
      "Best params for decision_tree: {'classifier__max_depth': 20}\n",
      "Best params for random_forest: {'classifier__max_depth': 10, 'classifier__n_estimators': 100}\n",
      "Best params for gradient_boosting: {'classifier__learning_rate': 0.01, 'classifier__n_estimators': 100}\n",
      "Best params for xgboost: {'classifier__learning_rate': 0.01, 'classifier__n_estimators': 100}\n",
      "--- logistic ---\n",
      "Accuracy: 0.99\n",
      "Classification Report:\n",
      "               precision    recall  f1-score   support\n",
      "\n",
      "           0       0.99      1.00      0.99     19563\n",
      "           1       0.00      0.00      0.00       264\n",
      "\n",
      "    accuracy                           0.99     19827\n",
      "   macro avg       0.49      0.50      0.50     19827\n",
      "weighted avg       0.97      0.99      0.98     19827\n",
      "\n",
      "--- decision_tree ---\n",
      "Accuracy: 0.99\n",
      "Classification Report:\n",
      "               precision    recall  f1-score   support\n",
      "\n",
      "           0       0.99      1.00      0.99     19563\n",
      "           1       0.46      0.06      0.11       264\n",
      "\n",
      "    accuracy                           0.99     19827\n",
      "   macro avg       0.72      0.53      0.55     19827\n",
      "weighted avg       0.98      0.99      0.98     19827\n",
      "\n",
      "--- random_forest ---\n",
      "Accuracy: 0.99\n",
      "Classification Report:\n",
      "               precision    recall  f1-score   support\n",
      "\n",
      "           0       0.99      1.00      0.99     19563\n",
      "           1       0.00      0.00      0.00       264\n",
      "\n",
      "    accuracy                           0.99     19827\n",
      "   macro avg       0.49      0.50      0.50     19827\n",
      "weighted avg       0.97      0.99      0.98     19827\n",
      "\n",
      "--- gradient_boosting ---\n",
      "Accuracy: 0.99\n",
      "Classification Report:\n",
      "               precision    recall  f1-score   support\n",
      "\n",
      "           0       0.99      1.00      0.99     19563\n",
      "           1       0.00      0.00      0.00       264\n",
      "\n",
      "    accuracy                           0.99     19827\n",
      "   macro avg       0.49      0.50      0.50     19827\n",
      "weighted avg       0.97      0.99      0.98     19827\n",
      "\n",
      "--- xgboost ---\n",
      "Accuracy: 0.99\n",
      "Classification Report:\n",
      "               precision    recall  f1-score   support\n",
      "\n",
      "           0       0.99      1.00      0.99     19563\n",
      "           1       0.00      0.00      0.00       264\n",
      "\n",
      "    accuracy                           0.99     19827\n",
      "   macro avg       0.49      0.50      0.50     19827\n",
      "weighted avg       0.97      0.99      0.98     19827\n",
      "\n"
     ]
    }
   ],
   "source": [
    "# Seleccionar les columnes útils del df\n",
    "columnes_categoriques = ['Nom_Activitat', 'Nom_Barri']\n",
    "columnes_binaries = ['SN_Carrer', 'SN_Mercat', 'SN_Galeria', 'SN_CComercial', 'SN_Eix']\n",
    "\n",
    "# Dataframe amb les columnes seleccionades\n",
    "X = df[columnes_categoriques + columnes_binaries]  # Característiques\n",
    "y = df['SN_Servei_Degustacio']  # Variable objectiu\n",
    "\n",
    "# Separar en entrenament i prova\n",
    "X_train, X_test, y_train, y_test = train_test_split(X, y, test_size=0.3, random_state=42, stratify=y)\n",
    "\n",
    "# Crear un transformador de columnes per transformar les categoriques\n",
    "preprocessor = ColumnTransformer(\n",
    "    transformers=[\n",
    "        ('cat', OneHotEncoder(handle_unknown='ignore'), columnes_categoriques),\n",
    "        ('bin', 'passthrough', columnes_binaries)\n",
    "    ])\n",
    "\n",
    "# Definir els models\n",
    "models = {\n",
    "    'logistic': LogisticRegression(random_state=42, max_iter=1000),\n",
    "    'decision_tree': DecisionTreeClassifier(),\n",
    "    'random_forest': RandomForestClassifier(random_state=42),\n",
    "    'gradient_boosting': GradientBoostingClassifier(),\n",
    "    'xgboost': XGBClassifier(eval_metric='logloss', use_label_encoder=False)\n",
    "}\n",
    "\n",
    "# Crear un pipeline per a cada model\n",
    "pipelines = {name: Pipeline([\n",
    "    ('preprocessor', preprocessor),  # Primer preprocessem les dades\n",
    "    ('classifier', model)            # Després afegim el model\n",
    "]) for name, model in models.items()}\n",
    "\n",
    "# GridSearch per a cada model\n",
    "param_grids = {\n",
    "    'logistic': {\n",
    "        'classifier__C': [0.01, 0.1, 1, 10],\n",
    "        'classifier__penalty': ['l1', 'l2'],\n",
    "        'classifier__solver': ['liblinear']\n",
    "    },\n",
    "    'decision_tree': {\n",
    "        'classifier__max_depth': [10, 20]\n",
    "    },\n",
    "    'random_forest': {\n",
    "        'classifier__n_estimators': [100],\n",
    "        'classifier__max_depth': [10, 20]\n",
    "    },\n",
    "    'gradient_boosting': {\n",
    "        'classifier__n_estimators': [100],\n",
    "        'classifier__learning_rate': [0.01, 0.1]\n",
    "    },\n",
    "    'xgboost': {\n",
    "        'classifier__n_estimators': [100],\n",
    "        'classifier__learning_rate': [0.01, 0.1]\n",
    "    }\n",
    "}\n",
    "\n",
    "# Ajustar els models amb GridSearch\n",
    "best_estimators = {}\n",
    "for name, pipeline in pipelines.items():\n",
    "    grid_search = GridSearchCV(pipeline, param_grids[name], cv=5, n_jobs=-1)\n",
    "    grid_search.fit(X_train, y_train)\n",
    "    best_estimators[name] = grid_search.best_estimator_\n",
    "    print(f'Best params for {name}: {grid_search.best_params_}')\n",
    "\n",
    "# Avaluació dels models\n",
    "for name, model in best_estimators.items():\n",
    "    y_pred = model.predict(X_test)\n",
    "    score = accuracy_score(y_test, y_pred)\n",
    "    report = classification_report(y_test, y_pred)\n",
    "    \n",
    "    print(f'--- {name} ---')\n",
    "    print(f'Accuracy: {score:.2f}')\n",
    "    print(\"Classification Report:\\n\", report)"
   ]
  },
  {
   "cell_type": "markdown",
   "id": "e3fd065b-07df-410e-a395-8ead4467d632",
   "metadata": {},
   "source": [
    "### Relació entre el 2on Target proposat"
   ]
  },
  {
   "cell_type": "markdown",
   "id": "fa312a9f-d9ef-43e5-b661-2eeb60137575",
   "metadata": {},
   "source": [
    "_Tornem a tenir problemes de sobreajustament (Overfitting), al igual que ens ha passat quan hem utilitzat el target de local actiu no actiu._\n",
    "Amb la qual cosa em plantejo probar altres variables y també de fer els entrenaments per separat sense utilitzar un Pipeline:"
   ]
  },
  {
   "cell_type": "code",
   "execution_count": 49,
   "id": "b2060242-4b6b-4c41-afba-3eafe470612a",
   "metadata": {},
   "outputs": [
    {
     "name": "stdout",
     "output_type": "stream",
     "text": [
      "Gradient Boosting Accuracy: 0.805215110707621\n",
      "Gradient Boosting Classification Report:\n",
      "               precision    recall  f1-score   support\n",
      "\n",
      "           0       0.83      0.89      0.86     13622\n",
      "           1       0.72      0.61      0.66      6205\n",
      "\n",
      "    accuracy                           0.81     19827\n",
      "   macro avg       0.78      0.75      0.76     19827\n",
      "weighted avg       0.80      0.81      0.80     19827\n",
      "\n"
     ]
    }
   ],
   "source": [
    "# Definir i entrenar el model Gradient Boosting\n",
    "gradient_boosting_model = GradientBoostingClassifier(random_state=42)\n",
    "gradient_boosting_model.fit(X_train, y_train)\n",
    "\n",
    "# Prediccions i evaluació\n",
    "y_pred_gb = gradient_boosting_model.predict(X_test)\n",
    "print(\"Gradient Boosting Accuracy:\", accuracy_score(y_test, y_pred_gb))\n",
    "print(\"Gradient Boosting Classification Report:\\n\", classification_report(y_test, y_pred_gb))\n"
   ]
  },
  {
   "cell_type": "code",
   "execution_count": 51,
   "id": "f503271e-5bfe-4545-afa2-8d6d0a10ef89",
   "metadata": {},
   "outputs": [
    {
     "name": "stdout",
     "output_type": "stream",
     "text": [
      "Ridge Classifier Accuracy: 0.6845211075805719\n",
      "Ridge Classifier Classification Report:\n",
      "               precision    recall  f1-score   support\n",
      "\n",
      "           0       0.69      0.98      0.81     13622\n",
      "           1       0.45      0.04      0.07      6205\n",
      "\n",
      "    accuracy                           0.68     19827\n",
      "   macro avg       0.57      0.51      0.44     19827\n",
      "weighted avg       0.62      0.68      0.58     19827\n",
      "\n"
     ]
    }
   ],
   "source": [
    "from sklearn.linear_model import RidgeClassifier\n",
    "# Definir i entrenar el model RidgeClassifier\n",
    "ridge_model = RidgeClassifier()\n",
    "ridge_model.fit(X_train, y_train)\n",
    "\n",
    "# Prediccions i evaluació\n",
    "y_pred_ridge = ridge_model.predict(X_test)\n",
    "print(\"Ridge Classifier Accuracy:\", accuracy_score(y_test, y_pred_ridge))\n",
    "print(\"Ridge Classifier Classification Report:\\n\", classification_report(y_test, y_pred_ridge))\n"
   ]
  },
  {
   "cell_type": "code",
   "execution_count": 52,
   "id": "f38c520c-a72d-4a12-8c09-46315f8170d3",
   "metadata": {},
   "outputs": [
    {
     "name": "stdout",
     "output_type": "stream",
     "text": [
      "Logistic Regression Accuracy: 0.6931961466686841\n",
      "Logistic Regression Classification Report:\n",
      "               precision    recall  f1-score   support\n",
      "\n",
      "           0       0.70      0.97      0.81     13622\n",
      "           1       0.56      0.09      0.16      6205\n",
      "\n",
      "    accuracy                           0.69     19827\n",
      "   macro avg       0.63      0.53      0.49     19827\n",
      "weighted avg       0.66      0.69      0.61     19827\n",
      "\n"
     ]
    }
   ],
   "source": [
    "# Definir i entrenar el model Logistic Regression (L1 Regularization)\n",
    "logreg_model = LogisticRegression(penalty='l1', solver='liblinear', random_state=42)\n",
    "logreg_model.fit(X_train, y_train)\n",
    "\n",
    "# Prediccions i evaluació\n",
    "y_pred_logreg = logreg_model.predict(X_test)\n",
    "print(\"Logistic Regression Accuracy:\", accuracy_score(y_test, y_pred_logreg))\n",
    "print(\"Logistic Regression Classification Report:\\n\", classification_report(y_test, y_pred_logreg))\n"
   ]
  },
  {
   "cell_type": "code",
   "execution_count": 54,
   "id": "eb978410-301f-48de-a539-f0d0a48c2b9c",
   "metadata": {},
   "outputs": [
    {
     "name": "stdout",
     "output_type": "stream",
     "text": [
      "Gradient Boosting Accuracy: 0.805215110707621\n",
      "Gradient Boosting Classification Report:\n",
      "               precision    recall  f1-score   support\n",
      "\n",
      "           0       0.83      0.89      0.86     13622\n",
      "           1       0.72      0.61      0.66      6205\n",
      "\n",
      "    accuracy                           0.81     19827\n",
      "   macro avg       0.78      0.75      0.76     19827\n",
      "weighted avg       0.80      0.81      0.80     19827\n",
      "\n"
     ]
    }
   ],
   "source": [
    "from sklearn.ensemble import GradientBoostingClassifier\n",
    "from sklearn.metrics import accuracy_score, classification_report\n",
    "\n",
    "# Definir i entrenar el model Gradient Boosting\n",
    "gradient_boosting_model = GradientBoostingClassifier(random_state=42)\n",
    "gradient_boosting_model.fit(X_train, y_train)\n",
    "\n",
    "# Prediccions i evaluació\n",
    "y_pred_gb = gradient_boosting_model.predict(X_test)\n",
    "print(\"Gradient Boosting Accuracy:\", accuracy_score(y_test, y_pred_gb))\n",
    "print(\"Gradient Boosting Classification Report:\\n\", classification_report(y_test, y_pred_gb))\n"
   ]
  },
  {
   "cell_type": "code",
   "execution_count": 55,
   "id": "58646eab-9db4-418c-ba4b-bec4b9809cc7",
   "metadata": {},
   "outputs": [
    {
     "name": "stdout",
     "output_type": "stream",
     "text": [
      "Random Forest Classifier Accuracy: 0.8166641448529782\n",
      "Random Forest Classifier Classification Report:\n",
      "               precision    recall  f1-score   support\n",
      "\n",
      "           0       0.86      0.88      0.87     13622\n",
      "           1       0.72      0.68      0.70      6205\n",
      "\n",
      "    accuracy                           0.82     19827\n",
      "   macro avg       0.79      0.78      0.78     19827\n",
      "weighted avg       0.81      0.82      0.82     19827\n",
      "\n"
     ]
    }
   ],
   "source": [
    "from sklearn.ensemble import RandomForestClassifier\n",
    "from sklearn.metrics import accuracy_score, classification_report\n",
    "\n",
    "# Definir i entrenar el model Random Forest\n",
    "rf_model = RandomForestClassifier(random_state=42)\n",
    "rf_model.fit(X_train, y_train)\n",
    "\n",
    "# Prediccion  i evaluació\n",
    "y_pred_rf = rf_model.predict(X_test)\n",
    "print(\"Random Forest Classifier Accuracy:\", accuracy_score(y_test, y_pred_rf))\n",
    "print(\"Random Forest Classifier Classification Report:\\n\", classification_report(y_test, y_pred_rf))\n"
   ]
  },
  {
   "cell_type": "markdown",
   "id": "5b26e27b-4b23-407b-9cbd-6b1c79867e90",
   "metadata": {},
   "source": [
    "### Optimització dels hiperparàmetres amb GridSearchCV: ###"
   ]
  },
  {
   "cell_type": "markdown",
   "id": "3b0eb24f-2c37-47e3-9464-81a4a036d3d2",
   "metadata": {},
   "source": [
    "Busco els millors hiperparàmetres per a cada model. Optimitzant el rendiment del model mitjançant la cerca dels millors valors de paràmetres:"
   ]
  },
  {
   "cell_type": "code",
   "execution_count": null,
   "id": "efd145ed-45dc-4a41-935f-019e6c4a73f1",
   "metadata": {},
   "outputs": [],
   "source": [
    "from sklearn.model_selection import GridSearchCV\n",
    "from sklearn.ensemble import RandomForestClassifier, GradientBoostingClassifier\n",
    "from sklearn.linear_model import LogisticRegression\n",
    "from xgboost import XGBClassifier\n",
    "\n",
    "# Definimos los parámetros de búsqueda para cada modelo\n",
    "param_grids = {\n",
    "    'random_forest': {\n",
    "        'n_estimators': [100, 200],\n",
    "        'max_depth': [10, 20, 30],\n",
    "        'min_samples_split': [2, 5, 10],\n",
    "        'min_samples_leaf': [1, 2, 4]\n",
    "    },\n",
    "    'logistic_regression': {\n",
    "        'C': [0.01, 0.1, 1, 10],\n",
    "        'penalty': ['l1', 'l2'],\n",
    "        'solver': ['liblinear']\n",
    "    },\n",
    "    'gradient_boosting': {\n",
    "        'n_estimators': [100, 200],\n",
    "        'learning_rate': [0.01, 0.1],\n",
    "        'max_depth': [3, 5, 10],\n",
    "        'subsample': [0.8, 1.0]\n",
    "    },\n",
    "    'xgboost': {\n",
    "        'n_estimators': [100, 200],\n",
    "        'learning_rate': [0.01, 0.1],\n",
    "        'max_depth': [3, 5, 10],\n",
    "        'subsample': [0.8, 1.0]\n",
    "    }\n",
    "}\n",
    "\n",
    "# Modelos\n",
    "models = {\n",
    "    'random_forest': RandomForestClassifier(random_state=42),\n",
    "    'logistic_regression': LogisticRegression(max_iter=1000, random_state=42),\n",
    "    'gradient_boosting': GradientBoostingClassifier(random_state=42),\n",
    "    'xgboost': XGBClassifier(eval_metric='logloss', use_label_encoder=False, random_state=42)\n",
    "}\n",
    "\n",
    "# GridSearch para cada modelo\n",
    "best_estimators = {}\n",
    "\n",
    "for model_name, model in models.items():\n",
    "    print(f\"Optimizing {model_name}...\")\n",
    "    grid_search = GridSearchCV(model, param_grids[model_name], cv=5, n_jobs=-1, verbose=1)\n",
    "    grid_search.fit(X_train, y_train)\n",
    "    \n",
    "    best_estimators[model_name] = grid_search.best_estimator_\n",
    "    print(f\"Best parameters for {model_name}: {grid_search.best_params_}\\n\")\n",
    "\n",
    "# Evaluación de los mejores modelos\n",
    "for model_name, model in best_estimators.items():\n",
    "    y_pred = model.predict(X_test)\n",
    "    accuracy = accuracy_score(y_test, y_pred)\n",
    "    print(f\"--- {model_name} ---\")\n",
    "    print(f\"Accuracy: {accuracy:.2f}\")\n",
    "    print(classification_report(y_test, y_pred))\n"
   ]
  },
  {
   "cell_type": "code",
   "execution_count": 83,
   "id": "3b86668f-58a0-4240-b16c-983a913f570b",
   "metadata": {},
   "outputs": [
    {
     "name": "stdout",
     "output_type": "stream",
     "text": [
      "Millors paràmetres: {'learning_rate': 0.1, 'max_depth': 5, 'n_estimators': 200, 'subsample': 0.8}\n"
     ]
    }
   ],
   "source": [
    "import joblib\n",
    "\n",
    "# Guardar el millor model\n",
    "best_model = grid_search.best_estimator_\n",
    "joblib.dump(best_model, 'best_random_forest_model.pkl')\n",
    "\n",
    "# Imprimir els millors paràmetres\n",
    "print(\"Millors paràmetres:\", grid_search.best_params_)"
   ]
  },
  {
   "cell_type": "markdown",
   "id": "fdd121da-623a-4575-a387-d2154b69456b",
   "metadata": {},
   "source": [
    "### Predicció final sobre el conjunt de test ###"
   ]
  },
  {
   "cell_type": "markdown",
   "id": "4406b5a0-06b4-48eb-ac49-dca923d4d5b8",
   "metadata": {},
   "source": [
    "Utilitzo els millors models, ja optimitzats amb GridSearchCV, per fer la predicció final sobre el conjunt de test i obtenir mètriques detallades com l'accuracy, precision, recall, F1-score, i la matriu de confusió:"
   ]
  },
  {
   "cell_type": "code",
   "execution_count": 57,
   "id": "8d99afed-7c80-4c97-87bc-fdb1efbcf5fa",
   "metadata": {},
   "outputs": [
    {
     "name": "stdout",
     "output_type": "stream",
     "text": [
      "--- Evaluando random_forest ---\n",
      "Accuracy: 0.82\n",
      "Classification Report:\n",
      "               precision    recall  f1-score   support\n",
      "\n",
      "           0       0.85      0.89      0.87     13622\n",
      "           1       0.73      0.67      0.70      6205\n",
      "\n",
      "    accuracy                           0.82     19827\n",
      "   macro avg       0.79      0.78      0.78     19827\n",
      "weighted avg       0.82      0.82      0.82     19827\n",
      "\n"
     ]
    },
    {
     "data": {
      "image/png": "[encoded data removed]",
      "text/plain": [
       "<Figure size 600x400 with 2 Axes>"
      ]
     },
     "metadata": {},
     "output_type": "display_data"
    },
    {
     "name": "stdout",
     "output_type": "stream",
     "text": [
      "--- Evaluando logistic_regression ---\n",
      "Accuracy: 0.68\n",
      "Classification Report:\n",
      "               precision    recall  f1-score   support\n",
      "\n",
      "           0       0.69      0.98      0.81     13622\n",
      "           1       0.45      0.04      0.07      6205\n",
      "\n",
      "    accuracy                           0.68     19827\n",
      "   macro avg       0.57      0.51      0.44     19827\n",
      "weighted avg       0.61      0.68      0.58     19827\n",
      "\n"
     ]
    },
    {
     "data": {
      "image/png": "[encoded data removed]",
      "text/plain": [
       "<Figure size 600x400 with 2 Axes>"
      ]
     },
     "metadata": {},
     "output_type": "display_data"
    },
    {
     "name": "stdout",
     "output_type": "stream",
     "text": [
      "--- Evaluando gradient_boosting ---\n",
      "Accuracy: 0.82\n",
      "Classification Report:\n",
      "               precision    recall  f1-score   support\n",
      "\n",
      "           0       0.86      0.88      0.87     13622\n",
      "           1       0.72      0.70      0.71      6205\n",
      "\n",
      "    accuracy                           0.82     19827\n",
      "   macro avg       0.79      0.79      0.79     19827\n",
      "weighted avg       0.82      0.82      0.82     19827\n",
      "\n"
     ]
    },
    {
     "data": {
      "image/png": "[encoded data removed]",
      "text/plain": [
       "<Figure size 600x400 with 2 Axes>"
      ]
     },
     "metadata": {},
     "output_type": "display_data"
    },
    {
     "name": "stdout",
     "output_type": "stream",
     "text": [
      "--- Evaluando xgboost ---\n",
      "Accuracy: 0.82\n",
      "Classification Report:\n",
      "               precision    recall  f1-score   support\n",
      "\n",
      "           0       0.87      0.88      0.87     13622\n",
      "           1       0.72      0.70      0.71      6205\n",
      "\n",
      "    accuracy                           0.82     19827\n",
      "   macro avg       0.79      0.79      0.79     19827\n",
      "weighted avg       0.82      0.82      0.82     19827\n",
      "\n"
     ]
    },
    {
     "data": {
      "image/png": "[encoded data removed]",
      "text/plain": [
       "<Figure size 600x400 with 2 Axes>"
      ]
     },
     "metadata": {},
     "output_type": "display_data"
    }
   ],
   "source": [
    "# Evaluació dels millors models amb les millors configuracions\n",
    "for model_name, model in best_estimators.items():\n",
    "    print(f\"--- Evaluando {model_name} ---\")\n",
    "    \n",
    "    # Entrenar el modelo con los mejores hiperparámetros\n",
    "    model.fit(X_train, y_train)\n",
    "    \n",
    "    # Realizar predicciones\n",
    "    y_pred = model.predict(X_test)\n",
    "    \n",
    "    # Evaluación: Exactitud\n",
    "    accuracy = accuracy_score(y_test, y_pred)\n",
    "    print(f\"Accuracy: {accuracy:.2f}\")\n",
    "    \n",
    "    # Reporte de clasificación\n",
    "    print(\"Classification Report:\\n\", classification_report(y_test, y_pred))\n",
    "    \n",
    "    # Matriz de confusión\n",
    "    cm = confusion_matrix(y_test, y_pred)\n",
    "    \n",
    "    # Visualización de la matriz de confusión\n",
    "    plt.figure(figsize=(6, 4))\n",
    "    sns.heatmap(cm, annot=True, fmt='d', cmap='Blues', xticklabels=['Negativo', 'Positivo'], yticklabels=['Negativo', 'Positivo'])\n",
    "    plt.title(f'Matriz de Confusión: {model_name}')\n",
    "    plt.ylabel('Actual')\n",
    "    plt.xlabel('Predicción')\n",
    "    plt.show()"
   ]
  },
  {
   "cell_type": "markdown",
   "id": "dd31c8aa-725a-4831-9cf6-5923b0a9b127",
   "metadata": {},
   "source": [
    "    Comparativa General:\n",
    "- Millor precisió: Tots els models tenen una precisió global de 0.82, a excepció de la Regressió Logística que té 0.68 (l'hem de descartar)\n",
    "Millor rendiment per a la classe 0 (negativa): Tots els models mostren un bon recall i precisió per a la classe 0, destacant-se el model \"Regressió Logística\" pel seu recall molt alt a la classe 0.   \n",
    "- Millor rendiment per a la classe 1 (positiva): Random Forest, Gradient Boosting i XGBoost tenen un rendiment força equilibrat entre les dues classes amb un F1-Score d'aproximadament 0.70 per a la classe positiva. No obstant això, la Regressió Logística mostra un rendiment molt deficient per a la classe 1.     \n",
    "    Observacions:  \n",
    "Regressió Logística: Tot i la seva precisió en la classe negativa, el model no és efectiu, un ajust de classes o tècniques com SMOTE o ponderació de classes podrien millorar el model, però estem molt lluny d'un bon resultat.\n",
    "\n",
    "Random Forest, Gradient Boosting, XGBoost: Tots aquests models mostren un rendiment similar i són millors per gestionar el desbalanç de classes.  \n",
    "Random Forest pot tenir un bon rendiment fins i tot sense molta optimització.  \n",
    "Gradient Boosting i XGBoost poden millorar amb un bon ajust de paràmetres."
   ]
  },
  {
   "cell_type": "markdown",
   "id": "fd29b077-2300-4dff-8adf-4c820518fa23",
   "metadata": {},
   "source": [
    "### Provem SMOTE per veure si millorem el resultat, doncs equilibra les classes en el conjunt d'entrenament ###"
   ]
  },
  {
   "cell_type": "code",
   "execution_count": 68,
   "id": "e3e1b5e1-6f5e-46b5-b981-79f5dac893cc",
   "metadata": {},
   "outputs": [
    {
     "name": "stdout",
     "output_type": "stream",
     "text": [
      "Exactitud després de SMOTE: 0.78\n",
      "Report de classificació:\n",
      "               precision    recall  f1-score   support\n",
      "\n",
      "           0       0.91      0.76      0.83     13622\n",
      "           1       0.61      0.83      0.71      6205\n",
      "\n",
      "    accuracy                           0.78     19827\n",
      "   macro avg       0.76      0.80      0.77     19827\n",
      "weighted avg       0.82      0.78      0.79     19827\n",
      "\n"
     ]
    }
   ],
   "source": [
    "from imblearn.over_sampling import SMOTE\n",
    "# Aplicar SMOTE per equilibrar les classes en el conjunt d'entrenament\n",
    "smote = SMOTE(random_state=42)\n",
    "X_train_res, y_train_res = smote.fit_resample(X_train, y_train)\n",
    "\n",
    "# Crear el model amb pesatge de classes\n",
    "model = RandomForestClassifier(class_weight='balanced', random_state=42)\n",
    "\n",
    "# Entrenar el model\n",
    "model.fit(X_train_res, y_train_res)\n",
    "\n",
    "# Realitzar prediccions\n",
    "y_pred = model.predict(X_test)\n",
    "\n",
    "# Avaluar el model\n",
    "accuracy = accuracy_score(y_test, y_pred)\n",
    "print(f\"Exactitud després de SMOTE: {accuracy:.2f}\")\n",
    "print(\"Report de classificació:\\n\", classification_report(y_test, y_pred))\n"
   ]
  },
  {
   "cell_type": "markdown",
   "id": "3adb9699-4c9d-465f-aa75-63b92546ce3b",
   "metadata": {},
   "source": [
    "### Provem PCA tot i que no crec que sigui la solució doncs no veig necessaria una reducció de components ###"
   ]
  },
  {
   "cell_type": "code",
   "execution_count": 69,
   "id": "3b1d89e4-2fd7-4bdc-aa84-aad7f2c2a8b5",
   "metadata": {},
   "outputs": [],
   "source": [
    "from sklearn.decomposition import PCA\n",
    "\n",
    "# Apliquem PCA a 2 components (per exemple)\n",
    "pca = PCA(n_components=2)\n",
    "X_train_res_pca = pca.fit_transform(X_train_res)\n",
    "X_test_pca = pca.transform(X_test)\n"
   ]
  },
  {
   "cell_type": "code",
   "execution_count": 70,
   "id": "617b739b-1d75-419d-b6bb-ef685f67b4f2",
   "metadata": {},
   "outputs": [
    {
     "name": "stdout",
     "output_type": "stream",
     "text": [
      "              precision    recall  f1-score   support\n",
      "\n",
      "           0       0.91      0.76      0.83     13622\n",
      "           1       0.61      0.83      0.70      6205\n",
      "\n",
      "    accuracy                           0.78     19827\n",
      "   macro avg       0.76      0.79      0.77     19827\n",
      "weighted avg       0.81      0.78      0.79     19827\n",
      "\n"
     ]
    }
   ],
   "source": [
    "# Entrenar el model després d aplicar PCA i SMOTE\n",
    "model = RandomForestClassifier(random_state=42)\n",
    "model.fit(X_train_res_pca, y_train_res)\n",
    "\n",
    "# Realitzar prediccions\n",
    "y_pred = model.predict(X_test_pca)\n",
    "\n",
    "# Avaluar el rendiment\n",
    "print(classification_report(y_test, y_pred))\n"
   ]
  },
  {
   "cell_type": "markdown",
   "id": "382034bb-e0fd-4384-82fe-1878d19995c2",
   "metadata": {},
   "source": [
    "### Conclusió: \n",
    "_SMOTE ha estat efectiu per millorar el recall de la classe positiva (1), però ha fet que l'exactitud global baixés una mica.\n",
    "PCA, en aquest cas, sembla no haver tingut un impacte significatiu ni per bé ni per malament._"
   ]
  },
  {
   "cell_type": "markdown",
   "id": "31a142e0-394b-47ce-a21b-e7a2aaaabacd",
   "metadata": {},
   "source": [
    "### Pròxims passos per millores: "
   ]
  },
  {
   "cell_type": "markdown",
   "id": "cc2401ad-3eb3-47cf-8760-9c52843bdede",
   "metadata": {},
   "source": [
    "- Provar SMOTE amb altres models com XGBoost o Gradient Boosting per veure si aquests models poden aprofitar millor l'augment de la classe minoritària.\n",
    "- Experimentar amb tècniques alternatives com el balanceig de classes per pes o l'ús de models més sensibles al desbalanç de classes (per exemple, models amb ponderació de classes).\n",
    "- Cross Validation per reduir el sobreajustament"
   ]
  }
 ],
 "metadata": {
  "kernelspec": {
   "display_name": "Python 3 (ipykernel)",
   "language": "python",
   "name": "python3"
  },
  "language_info": {
   "codemirror_mode": {
    "name": "ipython",
    "version": 3
   },
   "file_extension": ".py",
   "mimetype": "text/x-python",
   "name": "python",
   "nbconvert_exporter": "python",
   "pygments_lexer": "ipython3",
   "version": "3.12.5"
  }
 },
 "nbformat": 4,
 "nbformat_minor": 5
}
